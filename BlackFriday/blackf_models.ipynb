{
 "cells": [
  {
   "cell_type": "code",
   "execution_count": 13,
   "metadata": {},
   "outputs": [],
   "source": [
    "import pandas as pd\n",
    "import numpy as np"
   ]
  },
  {
   "cell_type": "code",
   "execution_count": 5,
   "metadata": {},
   "outputs": [],
   "source": [
    "# Importing the data\n",
    "train_df = pd.read_csv('train_modified.csv')\n",
    "test_df = pd.read_csv('test_modified.csv')"
   ]
  },
  {
   "cell_type": "code",
   "execution_count": null,
   "metadata": {},
   "outputs": [],
   "source": [
    "# Defining the target and predict variables"
   ]
  },
  {
   "cell_type": "code",
   "execution_count": 10,
   "metadata": {},
   "outputs": [],
   "source": [
    "target = 'Purchase'\n",
    "IDCol = ['User_ID', 'Product_ID']"
   ]
  },
  {
   "cell_type": "code",
   "execution_count": 20,
   "metadata": {},
   "outputs": [],
   "source": [
    "from sklearn.model_selection  import cross_val_score\n",
    "from sklearn.metrics import mean_squared_error, mean_absolute_error, SCORERS"
   ]
  },
  {
   "cell_type": "code",
   "execution_count": 47,
   "metadata": {},
   "outputs": [],
   "source": [
    "def model_fit(algo ,dtrain, dtest, predictors, outcome):\n",
    "    algo.fit(dtrain[predictors], dtrain[outcome])\n",
    "    # Predict on training set\n",
    "    dpredictions = algo.predict(dtrain[predictors])\n",
    "    \n",
    "    #Perform cross-validation\n",
    "    cv_score = cross_val_score(algo, dtrain[predictors], dtrain[outcome], cv=20, scoring='neg_mean_squared_error')\n",
    "    cv_score = np.sqrt(np.abs(cv_score))\n",
    "#     print(cv_score)\n",
    "    # Print model report\n",
    "    print('Model Report')\n",
    "    print(\"RMSE : %.4g\" % np.sqrt(mean_squared_error((dtrain[outcome]).values, dpredictions)))\n",
    "    print(\"CV Score : Mean - %.4g | Std - %.4g | Min - %.4g | Max - %.4g\" % (np.mean(cv_score),np.std(cv_score),np.min(cv_score),np.max(cv_score)))\n",
    "    "
   ]
  },
  {
   "cell_type": "code",
   "execution_count": 27,
   "metadata": {},
   "outputs": [],
   "source": [
    "# Linear Regression Model\n",
    "from sklearn.linear_model import LinearRegression\n",
    "LR =LinearRegression(normalize=True)"
   ]
  },
  {
   "cell_type": "code",
   "execution_count": 28,
   "metadata": {},
   "outputs": [],
   "source": [
    "predictor_vars = train_df.columns.drop(['Purchase','Product_ID','User_ID'])"
   ]
  },
  {
   "cell_type": "code",
   "execution_count": 32,
   "metadata": {},
   "outputs": [
    {
     "name": "stdout",
     "output_type": "stream",
     "text": [
      "[4285.16111574 4311.35167166 4356.80177392 4360.31513262 4376.68537104\n",
      " 4314.91672686 4360.16737358 4292.81634082 4337.37201076 4356.92981918\n",
      " 4329.94061425 4366.18701266 4350.93174971 4314.21461134 4347.27348809\n",
      " 4361.27912604 4391.67142892 4324.76086665 4321.09253494 4476.61472988]\n",
      "Model Report\n",
      "RMSE : 4341\n",
      "CV Score : Mean - 4347 | Std - 40.31 | Min - 4285 | Max - 4477\n"
     ]
    }
   ],
   "source": [
    "model_fit(LR, train_df, test_df, predictor_vars, target)"
   ]
  },
  {
   "cell_type": "code",
   "execution_count": 36,
   "metadata": {},
   "outputs": [],
   "source": [
    "coef1 = pd.Series(LR.coef_, predictor_vars).sort_values()"
   ]
  },
  {
   "cell_type": "code",
   "execution_count": 37,
   "metadata": {},
   "outputs": [
    {
     "data": {
      "text/plain": [
       "Product_Category_1           -573.757736\n",
       "Marital_Status                -49.046349\n",
       "User_ID_Count                  -0.627715\n",
       "Product_Category_1_Count       -0.019263\n",
       "Product_Category_3_Count        0.000401\n",
       "Age_Count                       0.000668\n",
       "Occupation_Count                0.000742\n",
       "Product_Category_2_Count        0.007062\n",
       "Product_ID_Count                2.342578\n",
       "Occupation                      5.719560\n",
       "Stay_In_Current_City_Years      9.675661\n",
       "City_Category                  53.173677\n",
       "Product_Category_2             66.330274\n",
       "Product_Category_3             99.806241\n",
       "Age                           169.058338\n",
       "Gender                        421.624456\n",
       "dtype: float64"
      ]
     },
     "execution_count": 37,
     "metadata": {},
     "output_type": "execute_result"
    }
   ],
   "source": [
    "coef1"
   ]
  },
  {
   "cell_type": "code",
   "execution_count": 39,
   "metadata": {},
   "outputs": [
    {
     "data": {
      "text/plain": [
       "<matplotlib.axes._subplots.AxesSubplot at 0x7f4ae3237978>"
      ]
     },
     "execution_count": 39,
     "metadata": {},
     "output_type": "execute_result"
    },
    {
     "data": {
      "image/png": "[encoded data removed]",
      "text/plain": [
       "<Figure size 432x288 with 1 Axes>"
      ]
     },
     "metadata": {},
     "output_type": "display_data"
    }
   ],
   "source": [
    "coef1.plot(kind='bar', title='Model Coefficients')"
   ]
  },
  {
   "cell_type": "code",
   "execution_count": 40,
   "metadata": {},
   "outputs": [],
   "source": [
    "from sklearn.linear_model import Ridge"
   ]
  },
  {
   "cell_type": "code",
   "execution_count": 41,
   "metadata": {},
   "outputs": [],
   "source": [
    "ridge = Ridge(alpha=0.5, normalize=True)"
   ]
  },
  {
   "cell_type": "code",
   "execution_count": 48,
   "metadata": {},
   "outputs": [
    {
     "name": "stdout",
     "output_type": "stream",
     "text": [
      "Model Report\n",
      "RMSE : 4449\n",
      "CV Score : Mean - 4454 | Std - 99.09 | Min - 4379 | Max - 4869\n"
     ]
    }
   ],
   "source": [
    "model_fit(ridge, train_df, test_df, predictor_vars, target)"
   ]
  },
  {
   "cell_type": "code",
   "execution_count": 57,
   "metadata": {},
   "outputs": [],
   "source": [
    "coef2 = pd.Series(ridge.coef_, predictor_vars).sort_values()"
   ]
  },
  {
   "cell_type": "code",
   "execution_count": 58,
   "metadata": {},
   "outputs": [
    {
     "data": {
      "text/plain": [
       "Product_Category_1           -245.364101\n",
       "Product_Category_2             -4.411877\n",
       "Marital_Status                 -3.726561\n",
       "User_ID_Count                  -0.569044\n",
       "Product_Category_1_Count       -0.006520\n",
       "Product_Category_2_Count       -0.001919\n",
       "Product_Category_3_Count       -0.001439\n",
       "Age_Count                       0.000197\n",
       "Occupation_Count                0.000310\n",
       "Product_ID_Count                1.533533\n",
       "Occupation                      5.485512\n",
       "Stay_In_Current_City_Years      8.474019\n",
       "Product_Category_3             52.311321\n",
       "Age                            74.977144\n",
       "City_Category                  84.788614\n",
       "Gender                        347.107836\n",
       "dtype: float64"
      ]
     },
     "execution_count": 58,
     "metadata": {},
     "output_type": "execute_result"
    }
   ],
   "source": [
    "coef2"
   ]
  },
  {
   "cell_type": "code",
   "execution_count": 59,
   "metadata": {},
   "outputs": [
    {
     "data": {
      "text/plain": [
       "<matplotlib.axes._subplots.AxesSubplot at 0x7f4ae3156f28>"
      ]
     },
     "execution_count": 59,
     "metadata": {},
     "output_type": "execute_result"
    },
    {
     "data": {
      "image/png": "[encoded data removed]",
      "text/plain": [
       "<Figure size 432x288 with 1 Axes>"
      ]
     },
     "metadata": {},
     "output_type": "display_data"
    }
   ],
   "source": [
    "coef2.plot(kind='bar')"
   ]
  },
  {
   "cell_type": "code",
   "execution_count": 45,
   "metadata": {},
   "outputs": [],
   "source": [
    "# Decision Tree"
   ]
  },
  {
   "cell_type": "code",
   "execution_count": 46,
   "metadata": {},
   "outputs": [],
   "source": [
    "from sklearn.tree import DecisionTreeRegressor"
   ]
  },
  {
   "cell_type": "code",
   "execution_count": 60,
   "metadata": {},
   "outputs": [],
   "source": [
    "DT = DecisionTreeRegressor(max_depth=15, min_samples_leaf=100)"
   ]
  },
  {
   "cell_type": "code",
   "execution_count": 61,
   "metadata": {},
   "outputs": [
    {
     "name": "stdout",
     "output_type": "stream",
     "text": [
      "Model Report\n",
      "RMSE : 2667\n",
      "CV Score : Mean - 2911 | Std - 814.3 | Min - 2689 | Max - 6460\n"
     ]
    }
   ],
   "source": [
    "model_fit(DT, train_df, test_df, predictor_vars, target)"
   ]
  },
  {
   "cell_type": "code",
   "execution_count": 64,
   "metadata": {},
   "outputs": [],
   "source": [
    "coef3 = pd.Series(DT.feature_importances_, predictor_vars).sort_values()"
   ]
  },
  {
   "cell_type": "code",
   "execution_count": 65,
   "metadata": {},
   "outputs": [
    {
     "data": {
      "text/plain": [
       "<matplotlib.axes._subplots.AxesSubplot at 0x7f4ae25485f8>"
      ]
     },
     "execution_count": 65,
     "metadata": {},
     "output_type": "execute_result"
    },
    {
     "data": {
      "image/png": "[encoded data removed]",
      "text/plain": [
       "<Figure size 432x288 with 1 Axes>"
      ]
     },
     "metadata": {},
     "output_type": "display_data"
    }
   ],
   "source": [
    "coef3.plot(kind='bar')"
   ]
  }
 ],
 "metadata": {
  "kernelspec": {
   "display_name": "Python 3",
   "language": "python",
   "name": "python3"
  },
  "language_info": {
   "codemirror_mode": {
    "name": "ipython",
    "version": 3
   },
   "file_extension": ".py",
   "mimetype": "text/x-python",
   "name": "python",
   "nbconvert_exporter": "python",
   "pygments_lexer": "ipython3",
   "version": "3.6.7"
  }
 },
 "nbformat": 4,
 "nbformat_minor": 2
}
