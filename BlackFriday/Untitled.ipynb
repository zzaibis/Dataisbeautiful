{
 "cells": [
  {
   "cell_type": "code",
   "execution_count": 1,
   "metadata": {
    "ExecuteTime": {
     "end_time": "2019-05-11T06:10:35.750308Z",
     "start_time": "2019-05-11T06:10:35.637503Z"
    }
   },
   "outputs": [
    {
     "name": "stdout",
     "output_type": "stream",
     "text": [
      "blackf_models.ipynb                      black_friday.ipynb  train.csv\r\n",
      "\u001b[0m\u001b[01;34mBlackFriday-Analysis-Prediction-master\u001b[0m/  black.py            train_modified.csv\r\n",
      "black_friday-Copy1.ipynb                 learn_pca.ipynb     Untitled1.ipynb\r\n",
      "\u001b[01;34mBlackFridayDataHack-master\u001b[0m/              test.csv            Untitled.ipynb\r\n",
      "black_friday_different_approach.ipynb    test_modified.csv\r\n"
     ]
    }
   ],
   "source": [
    "ls"
   ]
  },
  {
   "cell_type": "code",
   "execution_count": 2,
   "metadata": {
    "ExecuteTime": {
     "end_time": "2019-05-11T06:10:39.904891Z",
     "start_time": "2019-05-11T06:10:35.756862Z"
    }
   },
   "outputs": [
    {
     "name": "stdout",
     "output_type": "stream",
     "text": [
      "(550068, 13) (233599, 12) (783667, 13)\n",
      "User_ID                            0\n",
      "Product_ID                         0\n",
      "Gender                             0\n",
      "Age                                0\n",
      "Occupation                         0\n",
      "City_Category                      0\n",
      "Stay_In_Current_City_Years         0\n",
      "Marital_Status                     0\n",
      "Product_Category_1                 0\n",
      "Product_Category_2            245982\n",
      "Product_Category_3            545809\n",
      "Purchase                      233599\n",
      "source                             0\n",
      "dtype: int64\n"
     ]
    }
   ],
   "source": [
    "# %load black.py\n",
    "import pandas as pd\n",
    "import numpy as np\n",
    "import matplotlib.pyplot as plt\n",
    "import seaborn as sns\n",
    "from io import StringIO\n",
    "\n",
    "# train = pd.read_csv(StringIO('train.csv'), sep='\\s+')\n",
    "train = pd.read_csv('train.csv')\n",
    "test = pd.read_csv('test.csv')\n",
    "\n",
    "pd.options.display.max_columns = 999\n",
    "\n",
    "# print(train.head())\n",
    "# print(train.shape)\n",
    "# print(test.shape)\n",
    "#\n",
    "# # print(train.describe())\n",
    "#\n",
    "# # print(train.info())\n",
    "#\n",
    "# #Check for duplicates\n",
    "#\n",
    "# IDsUnique = len(set(train.User_ID))\n",
    "# print(IDsUnique)\n",
    "#\n",
    "# IdsTotal = len(train)\n",
    "#\n",
    "# print(IdsTotal)\n",
    "#\n",
    "# IdsDup = IdsTotal - IDsUnique\n",
    "#\n",
    "# print(IdsDup)\n",
    "#\n",
    "# print('There are ' + str(IdsDup) + ' Duplicate IDs for ' + str(IdsTotal) + ' Total IDs, meaning only ' + str(IDsUnique) + ' of them are unique')\n",
    "\n",
    "# plt.style.use('fivethirtyeight')\n",
    "# plt.figure(figsize=(12,7))\n",
    "# sns.distplot(train['Purchase'], bins=25)\n",
    "# plt.xlabel('Purchases')\n",
    "# plt.ylabel('No of Buyers')\n",
    "# plt.title('Purchase amount Distribution')\n",
    "# # plt.show()\n",
    "\n",
    "# Numeric Predictors assesment\n",
    "numeric_features = train.select_dtypes(include=[np.number])\n",
    "\n",
    "# Univariate Analysis\n",
    "\n",
    "# #Occupation\n",
    "# #Marital_Status\n",
    "# #Product_Category_1\n",
    "# #Product_Category_2\n",
    "# #Product_Category_3\n",
    "#\n",
    "# def countplott(obj):\n",
    "#     return sns.countplot(train[obj])\n",
    "# print('YYYYYYYYYYYYYYYYYYYYYYYYYYYYYYYYYYYYYYYYYYYYYYYYYYYYYYYYYYYYYYYYYYYY')\n",
    "# # for i in numeric_features:\n",
    "# #     if i not in ['User_ID', 'Purchase']:\n",
    "# #         countplott(i)\n",
    "# #         print(train[i].value_counts())\n",
    "# #         plt.show()\n",
    "\n",
    "\n",
    "# # Correlation between Numeric features and Target variable\n",
    "#\n",
    "# # category_features = train.select_dtypes(include=['object'])\n",
    "# # print(category_features.dtypes)\n",
    "# #\n",
    "# # print(train.isnull().sum()/train.shape[0]*100)\n",
    "# #\n",
    "# # print(train['Occupation'].unique())\n",
    "# #\n",
    "# # sns.countplot(train['Marital_Status'])\n",
    "# # plt.show()\n",
    "#\n",
    "# corr = numeric_features.corr()\n",
    "#\n",
    "# print(corr['Purchase'].sort_values(ascending=False))\n",
    "#\n",
    "# # Correlation Matrix\n",
    "# f, ax = plt.subplots(figsize=(20, 9))\n",
    "# sns.heatmap(corr,  annot=True);\n",
    "# # plt.show()\n",
    "#\n",
    "# # Categorical Predictors\n",
    "#\n",
    "categorical_features = train.select_dtypes(include=object)\n",
    "#\n",
    "# for i in categorical_features:\n",
    "#     if i not in ['Product_ID']:\n",
    "#         sns.countplot(train[i])\n",
    "#         # plt.show()\n",
    "#\n",
    "# # Bivariate Analysis\n",
    "#\n",
    "# # Numeric Variables # Pivot tables of target and predictor variables\n",
    "#\n",
    "# for i in numeric_features:\n",
    "#     if i not in ['User_ID', 'Purchase']:\n",
    "#         pivot_table = train.pivot_table (index=i, values='Purchase', aggfunc=np.mean)\n",
    "#         print(pivot_table)\n",
    "#         pivot_table.plot(kind= 'bar')\n",
    "#         plt.xlabel(i)\n",
    "#         plt.ylabel('Purchase')\n",
    "#         plt.title('Average Purchase among categories')\n",
    "#         plt.xticks(rotation= 1)\n",
    "#         # plt.show()\n",
    "#\n",
    "#\n",
    "# # Categorical Variables\n",
    "#\n",
    "# for i in categorical_features:\n",
    "#     if i not in ['Product_ID']:\n",
    "#         pivot_table = train.pivot_table (index=i, values='Purchase', aggfunc=np.mean)\n",
    "#         print(pivot_table)\n",
    "#         pivot_table.plot(kind= 'bar')\n",
    "#         plt.xlabel(i)\n",
    "#         plt.ylabel('Purchase')\n",
    "#         plt.title('Average Purchase among categories')\n",
    "#         plt.xticks(rotation= 1)\n",
    "#         # plt.show()\n",
    "\n",
    "# DATA PREPROCESSING\n",
    "\n",
    "# Combining the dataset into one dataframe for easy cleaning and feature engineering\n",
    "train['source'] = 'train'\n",
    "test['source'] = 'test'\n",
    "\n",
    "black_friday = pd.concat([train, test], ignore_index=True, sort=False)\n",
    "print(train.shape, test.shape, black_friday.shape)\n",
    "\n",
    "# Looking at the missing values for imputation\n",
    "\n",
    "print(black_friday.isnull().sum())\n",
    "\n",
    "# Imputing values to missing values\n",
    "\n",
    "\n",
    "black_friday['Product_Category_2'].fillna(0, inplace=True)\n",
    "black_friday['Product_Category_3'].fillna(0, inplace=True)\n",
    "\n",
    "\n",
    "\n",
    "\n",
    "\n",
    "\n",
    "\n",
    "\n"
   ]
  },
  {
   "cell_type": "code",
   "execution_count": null,
   "metadata": {},
   "outputs": [],
   "source": []
  }
 ],
 "metadata": {
  "hide_input": false,
  "kernelspec": {
   "display_name": "Python 3",
   "language": "python",
   "name": "python3"
  },
  "language_info": {
   "codemirror_mode": {
    "name": "ipython",
    "version": 3
   },
   "file_extension": ".py",
   "mimetype": "text/x-python",
   "name": "python",
   "nbconvert_exporter": "python",
   "pygments_lexer": "ipython3",
   "version": "3.7.3"
  },
  "toc": {
   "base_numbering": 1,
   "nav_menu": {},
   "number_sections": true,
   "sideBar": true,
   "skip_h1_title": false,
   "title_cell": "Table of Contents",
   "title_sidebar": "Contents",
   "toc_cell": false,
   "toc_position": {},
   "toc_section_display": true,
   "toc_window_display": false
  },
  "varInspector": {
   "cols": {
    "lenName": 16,
    "lenType": 16,
    "lenVar": 40
   },
   "kernels_config": {
    "python": {
     "delete_cmd_postfix": "",
     "delete_cmd_prefix": "del ",
     "library": "var_list.py",
     "varRefreshCmd": "print(var_dic_list())"
    },
    "r": {
     "delete_cmd_postfix": ") ",
     "delete_cmd_prefix": "rm(",
     "library": "var_list.r",
     "varRefreshCmd": "cat(var_dic_list()) "
    }
   },
   "types_to_exclude": [
    "module",
    "function",
    "builtin_function_or_method",
    "instance",
    "_Feature"
   ],
   "window_display": true
  }
 },
 "nbformat": 4,
 "nbformat_minor": 2
}
