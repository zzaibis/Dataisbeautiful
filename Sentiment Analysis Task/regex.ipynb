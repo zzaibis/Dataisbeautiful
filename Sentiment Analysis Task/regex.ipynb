{
 "cells": [
  {
   "cell_type": "code",
   "execution_count": 1,
   "metadata": {},
   "outputs": [],
   "source": [
    "import re"
   ]
  },
  {
   "cell_type": "code",
   "execution_count": 16,
   "metadata": {},
   "outputs": [],
   "source": [
    "xx = 'guru99, education is fun'"
   ]
  },
  {
   "cell_type": "code",
   "execution_count": 50,
   "metadata": {},
   "outputs": [],
   "source": [
    "xx = \"is Human resources, or HR, powered by artificial intelligence (AI) is the new driver of business growth today. It is not surprising, then, that both HR leaders and managers are leveraging AI to augment decision-making and interactions with employees. “The age of the intuitive HR leader is gone. Today, you have to use data while making a selection. HR was earlier very process-oriented. Now, we are moving out of that phase, and using decision science and AI to enable productivity, says Diane Gherson, chief HR officer (CHRO) at International Business Machines Corp. (IBM).Gherson is a huge advocate of technology and is responsible for digitally transforming the HR function, incorporating AI and automation across all HR offerings, resulting in more than $100 million in net benefits in 2017. The company has automated its services around recruitment, employee engagement and learning development solutions for HR with the creation of chatbots, and Gherson claims that 40% of the company’s traffic is now via chatbots.Technology is also used to curate highly personalized learning experiences that are customized to individual needs. This has resulted in an increase in average learning hours for India by nearly 40% year-on-year on IBM’s learning platform. Other applications such as Blue Matching use predictive analytics to produce a list of jobs currently available based on an employee’s geographical location, grade, job role, experience and other factors.\""
   ]
  },
  {
   "cell_type": "code",
   "execution_count": 31,
   "metadata": {},
   "outputs": [],
   "source": [
    "r1 = re.findall(r\"^\\w+\", xx)"
   ]
  },
  {
   "cell_type": "code",
   "execution_count": 32,
   "metadata": {},
   "outputs": [
    {
     "name": "stdout",
     "output_type": "stream",
     "text": [
      "['is']\n"
     ]
    }
   ],
   "source": [
    "print(r1)"
   ]
  },
  {
   "cell_type": "code",
   "execution_count": 51,
   "metadata": {},
   "outputs": [],
   "source": [
    "r2 = re.split(r'\\s', xx)"
   ]
  },
  {
   "cell_type": "code",
   "execution_count": 52,
   "metadata": {},
   "outputs": [
    {
     "name": "stdout",
     "output_type": "stream",
     "text": [
      "['is', 'Human', 'resources,', 'or', 'HR,', 'powered', 'by', 'artificial', 'intelligence', '(AI)', 'is', 'the', 'new', 'driver', 'of', 'business', 'growth', 'today.', 'It', 'is', 'not', 'surprising,', 'then,', 'that', 'both', 'HR', 'leaders', 'and', 'managers', 'are', 'leveraging', 'AI', 'to', 'augment', 'decision-making', 'and', 'interactions', 'with', 'employees.', '“The', 'age', 'of', 'the', 'intuitive', 'HR', 'leader', 'is', 'gone.', 'Today,', 'you', 'have', 'to', 'use', 'data', 'while', 'making', 'a', 'selection.', 'HR', 'was', 'earlier', 'very', 'process-oriented.', 'Now,', 'we', 'are', 'moving', 'out', 'of', 'that', 'phase,', 'and', 'using', 'decision', 'science', 'and', 'AI', 'to', 'enable', 'productivity,', 'says', 'Diane', 'Gherson,', 'chief', 'HR', 'officer', '(CHRO)', 'at', 'International', 'Business', 'Machines', 'Corp.', '(IBM).Gherson', 'is', 'a', 'huge', 'advocate', 'of', 'technology', 'and', 'is', 'responsible', 'for', 'digitally', 'transforming', 'the', 'HR', 'function,', 'incorporating', 'AI', 'and', 'automation', 'across', 'all', 'HR', 'offerings,', 'resulting', 'in', 'more', 'than', '$100', 'million', 'in', 'net', 'benefits', 'in', '2017.', 'The', 'company', 'has', 'automated', 'its', 'services', 'around', 'recruitment,', 'employee', 'engagement', 'and', 'learning', 'development', 'solutions', 'for', 'HR', 'with', 'the', 'creation', 'of', 'chatbots,', 'and', 'Gherson', 'claims', 'that', '40%', 'of', 'the', 'company’s', 'traffic', 'is', 'now', 'via', 'chatbots.Technology', 'is', 'also', 'used', 'to', 'curate', 'highly', 'personalized', 'learning', 'experiences', 'that', 'are', 'customized', 'to', 'individual', 'needs.', 'This', 'has', 'resulted', 'in', 'an', 'increase', 'in', 'average', 'learning', 'hours', 'for', 'India', 'by', 'nearly', '40%', 'year-on-year', 'on', 'IBM’s', 'learning', 'platform.', 'Other', 'applications', 'such', 'as', 'Blue', 'Matching', 'use', 'predictive', 'analytics', 'to', 'produce', 'a', 'list', 'of', 'jobs', 'currently', 'available', 'based', 'on', 'an', 'employee’s', 'geographical', 'location,', 'grade,', 'job', 'role,', 'experience', 'and', 'other', 'factors.']\n"
     ]
    }
   ],
   "source": [
    "print(r2)"
   ]
  },
  {
   "cell_type": "code",
   "execution_count": 45,
   "metadata": {},
   "outputs": [
    {
     "name": "stdout",
     "output_type": "stream",
     "text": [
      "['we', 'are', 'splitting', 'the', 'words']\n"
     ]
    }
   ],
   "source": [
    "import re\n",
    "xx = \"guru99,education is fun\"\n",
    "# r1 = re.findall(r\"^\\w+\", xx)\n",
    "print((re.split(r'\\s','we are splitting the words')))\n",
    "# print((re.split(r's','split the words')))"
   ]
  },
  {
   "cell_type": "code",
   "execution_count": 1,
   "metadata": {},
   "outputs": [
    {
     "ename": "SyntaxError",
     "evalue": "invalid syntax (<ipython-input-1-c023baf722e4>, line 6)",
     "output_type": "error",
     "traceback": [
      "\u001b[0;36m  File \u001b[0;32m\"<ipython-input-1-c023baf722e4>\"\u001b[0;36m, line \u001b[0;32m6\u001b[0m\n\u001b[0;31m    print \"matchObj.group() : \", matchObj.group()\u001b[0m\n\u001b[0m                              ^\u001b[0m\n\u001b[0;31mSyntaxError\u001b[0m\u001b[0;31m:\u001b[0m invalid syntax\n"
     ]
    }
   ],
   "source": [
    "line = \"Cats are smarter than dogs\"\n",
    "\n",
    "matchObj = re.match( r'(.*) are (.*?) .*', line, re.M|re.I)\n",
    "\n",
    "if matchObj:\n",
    "   print \"matchObj.group() : \", matchObj.group()\n",
    "   print \"matchObj.group(1) : \", matchObj.group(1)\n",
    "   print \"matchObj.group(2) : \", matchObj.group(2)\n",
    "else:\n",
    "   print \"No match!!\""
   ]
  }
 ],
 "metadata": {
  "kernelspec": {
   "display_name": "Python 3",
   "language": "python",
   "name": "python3"
  },
  "language_info": {
   "codemirror_mode": {
    "name": "ipython",
    "version": 3
   },
   "file_extension": ".py",
   "mimetype": "text/x-python",
   "name": "python",
   "nbconvert_exporter": "python",
   "pygments_lexer": "ipython3",
   "version": "3.6.7"
  }
 },
 "nbformat": 4,
 "nbformat_minor": 2
}
